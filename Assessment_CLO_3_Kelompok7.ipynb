{
  "cells": [
    {
      "cell_type": "markdown",
      "id": "0998ab93",
      "metadata": {
        "id": "0998ab93"
      },
      "source": [
        "# <center>Assessment CLO-3: Tugas Pemrograman Learning</center>"
      ]
    },
    {
      "cell_type": "markdown",
      "id": "b9dd2c3d",
      "metadata": {
        "id": "b9dd2c3d"
      },
      "source": [
        "<b>Topik</b>\n",
        "Klasifikasi pada Ecoli menggunakan metode k-Nearest Neighbors (kNN)\n",
        "\n",
        "<b>Kelompok: 7 </b>\n",
        "\n",
        "Anggota:\n",
        "1. Syahra Rizky Ramadhani Nasution - 1301220066\n",
        "2. Qualifia Nayyara Amarani - 1301223160\n",
        "3. Rafi Pratama Gunadi - 1301220480\n",
        "\n"
      ]
    },
    {
      "cell_type": "markdown",
      "id": "f67c8e8d",
      "metadata": {
        "id": "f67c8e8d"
      },
      "source": [
        "#### Import Library\n"
      ]
    },
    {
      "cell_type": "markdown",
      "source": [
        "Pada dataset ini kita membutuhkan 5 library yang akan digunakan untuk :\n",
        "\n",
        "\n",
        "1.   Memuat data dari file CSV, memanipulasi dan membersihkan data, serta melakukan analisis eksplorasi data (EDA)\n",
        "2.   Membuat visualisasi dasar seperti histogram, scatter plot, dan boxplot untuk menganalisis distribusi data dan outliers.\n",
        "3. Membuat visualisasi statistik yang lebih kompleks dan estetis seperti heatmap dan boxplot dengan lebih mudah dan interaktif.\n",
        "4. Mengunduh data dari web, misalnya mengakses file deskripsi dataset yang tersedia di internet.\n",
        "5. Pada library scikit.learn kita membaginya menjadi 4 bagian :     \n",
        "\n",
        "\n",
        "*   train_test_split: Untuk membagi dataset menjadi set pelatihan dan pengujian untuk menguji kinerja model.\n",
        "*   StandardScaler: Untuk menstandarkan fitur dengan menghapus rata-rata dan menskalakan ke varians unit.\n",
        "*   KNeighborsClassifier: Untuk mengimplementasikan algoritma K-Nearest Neighbors untuk klasifikasi.\n",
        "*   classification_report, accuracy_score, confusion_matrix: Untuk mengevaluasi kinerja model klasifikasi dengan berbagai metrik evaluasi.\n",
        "\n",
        "\n",
        "\n"
      ],
      "metadata": {
        "id": "gJP1ejiDPqSv"
      },
      "id": "gJP1ejiDPqSv"
    },
    {
      "cell_type": "code",
      "execution_count": 1,
      "id": "bd1c9727",
      "metadata": {
        "id": "bd1c9727"
      },
      "outputs": [],
      "source": [
        "import pandas as pd\n",
        "import matplotlib.pyplot as plt\n",
        "import seaborn as sns\n",
        "import requests\n",
        "from sklearn.model_selection import train_test_split\n",
        "from sklearn.preprocessing import StandardScaler\n",
        "from sklearn.neighbors import KNeighborsClassifier\n",
        "from sklearn.metrics import classification_report, accuracy_score, confusion_matrix"
      ]
    },
    {
      "cell_type": "markdown",
      "source": [
        "#### Pendahuluan\n",
        "\n",
        "**Dataset**\n",
        "\n",
        "Escherichia coli (E. coli) adalah bakteri yang biasanya ditemukan di dalam usus manusia. Sebagian besar jenis E. coli tidak berbahaya dan hanya akan menyebabkan diare singkat.\n",
        "\n",
        "Dataset E. coli adalah kumpulan data pengukuran sifat-sifat kimiawi dari berbagai strain bakteri E. coli. Tujuan dari tugas ini adalah untuk mengklasifikasikan strain E. coli berdasarkan beberapa fitur kimiawi yang diukur.\n",
        "\n",
        "Dataset ini terdiri dari 336 data protein E.coli dan dideskripsikan dengan tujuh variabel input yang berupa pengukuran urutan asam amino dari protein.\n",
        "1. **mcg**: Metode McGeoch untuk pengenalan urutan sinyal.\n",
        "2. **gvh**: Metode von Heijne untuk pengenalan urutan sinyal.\n",
        "3. **lip**: Skor urutan konsensus Signal Peptidase II von Heijne. Atribut biner.\n",
        "4. **chg**: Keberadaan muatan pada ujung-N lipoprotein yang diprediksi. Atribut biner.\n",
        "5. **aac**: Skor analisis diskriminan dari kandungan asam amino membran luar dan protein periplasma.\n",
        "6. **alm1**: Skor dari program prediksi wilayah rentang membran ALOM.\n",
        "7. **alm2**: Skor program ALOM setelah mengecualikan daerah sinyal yang diduga dapat dibelah dari urutan.\n",
        "\n",
        "Label Class\n",
        "1. cp  (cytoplasm)\n",
        "2. im  (inner membrane without signal sequence)\n",
        "3. pp  (perisplasm)\n",
        "4. imU (inner membrane, uncleavable signal sequence)\n",
        "5. om  (outer membrane)\n",
        "6. omL (outer membrane lipoprotein)\n",
        "7. imL (inner membrane lipoprotein)\n",
        "8. imS (inner membrane, cleavable signal sequence)\n",
        "\n",
        "**Pengolahan data**\n",
        "\n",
        "Pertama, memisahkan fitur (X) dari class (y). Bagian fitur adalah kolom-kolom data yang digunakan untuk memprediksi class. Kemudian, membagi dataset menjadi data training dan testing dengan persentase data, 80% untuk training dan 20% untuk testing. Selain itu, data fitur diubah skalanya dengan normalisasi agar memiliki mean 0 dan deviasi standar 1, untuk membantu model menghasilkan akurasi lebih baik.\n",
        "\n"
      ],
      "metadata": {
        "id": "P3qJSWWUzBBU"
      },
      "id": "P3qJSWWUzBBU"
    },
    {
      "cell_type": "markdown",
      "source": [
        "##### load dataset ecoli"
      ],
      "metadata": {
        "id": "PbLokB4WUyjp"
      },
      "id": "PbLokB4WUyjp"
    },
    {
      "cell_type": "code",
      "source": [
        "url_data = 'https://archive.ics.uci.edu/ml/machine-learning-databases/ecoli/ecoli.data'"
      ],
      "metadata": {
        "id": "2avggH2hU0Sw"
      },
      "id": "2avggH2hU0Sw",
      "execution_count": 2,
      "outputs": []
    },
    {
      "cell_type": "code",
      "source": [
        "col_names = ['sequence_name', 'mcg', 'gvh', 'lip', 'chg', 'aac', 'alm1', 'alm2', 'class']\n",
        "ecoli_data = pd.read_csv(url_data, delim_whitespace=True, header=None, names=col_names)\n",
        "ecoli_data.head()"
      ],
      "metadata": {
        "id": "VyfuNRlRa3Xg",
        "colab": {
          "base_uri": "https://localhost:8080/",
          "height": 206
        },
        "outputId": "c4bc9f0d-5317-47b3-f6a5-7d1be1db1a65"
      },
      "id": "VyfuNRlRa3Xg",
      "execution_count": 3,
      "outputs": [
        {
          "output_type": "execute_result",
          "data": {
            "text/plain": [
              "  sequence_name   mcg   gvh   lip  chg   aac  alm1  alm2 class\n",
              "0     AAT_ECOLI  0.49  0.29  0.48  0.5  0.56  0.24  0.35    cp\n",
              "1    ACEA_ECOLI  0.07  0.40  0.48  0.5  0.54  0.35  0.44    cp\n",
              "2    ACEK_ECOLI  0.56  0.40  0.48  0.5  0.49  0.37  0.46    cp\n",
              "3    ACKA_ECOLI  0.59  0.49  0.48  0.5  0.52  0.45  0.36    cp\n",
              "4     ADI_ECOLI  0.23  0.32  0.48  0.5  0.55  0.25  0.35    cp"
            ],
            "text/html": [
              "\n",
              "  <div id=\"df-e91b6c8f-67f5-4ee4-ae4a-93e8cf2d2a27\" class=\"colab-df-container\">\n",
              "    <div>\n",
              "<style scoped>\n",
              "    .dataframe tbody tr th:only-of-type {\n",
              "        vertical-align: middle;\n",
              "    }\n",
              "\n",
              "    .dataframe tbody tr th {\n",
              "        vertical-align: top;\n",
              "    }\n",
              "\n",
              "    .dataframe thead th {\n",
              "        text-align: right;\n",
              "    }\n",
              "</style>\n",
              "<table border=\"1\" class=\"dataframe\">\n",
              "  <thead>\n",
              "    <tr style=\"text-align: right;\">\n",
              "      <th></th>\n",
              "      <th>sequence_name</th>\n",
              "      <th>mcg</th>\n",
              "      <th>gvh</th>\n",
              "      <th>lip</th>\n",
              "      <th>chg</th>\n",
              "      <th>aac</th>\n",
              "      <th>alm1</th>\n",
              "      <th>alm2</th>\n",
              "      <th>class</th>\n",
              "    </tr>\n",
              "  </thead>\n",
              "  <tbody>\n",
              "    <tr>\n",
              "      <th>0</th>\n",
              "      <td>AAT_ECOLI</td>\n",
              "      <td>0.49</td>\n",
              "      <td>0.29</td>\n",
              "      <td>0.48</td>\n",
              "      <td>0.5</td>\n",
              "      <td>0.56</td>\n",
              "      <td>0.24</td>\n",
              "      <td>0.35</td>\n",
              "      <td>cp</td>\n",
              "    </tr>\n",
              "    <tr>\n",
              "      <th>1</th>\n",
              "      <td>ACEA_ECOLI</td>\n",
              "      <td>0.07</td>\n",
              "      <td>0.40</td>\n",
              "      <td>0.48</td>\n",
              "      <td>0.5</td>\n",
              "      <td>0.54</td>\n",
              "      <td>0.35</td>\n",
              "      <td>0.44</td>\n",
              "      <td>cp</td>\n",
              "    </tr>\n",
              "    <tr>\n",
              "      <th>2</th>\n",
              "      <td>ACEK_ECOLI</td>\n",
              "      <td>0.56</td>\n",
              "      <td>0.40</td>\n",
              "      <td>0.48</td>\n",
              "      <td>0.5</td>\n",
              "      <td>0.49</td>\n",
              "      <td>0.37</td>\n",
              "      <td>0.46</td>\n",
              "      <td>cp</td>\n",
              "    </tr>\n",
              "    <tr>\n",
              "      <th>3</th>\n",
              "      <td>ACKA_ECOLI</td>\n",
              "      <td>0.59</td>\n",
              "      <td>0.49</td>\n",
              "      <td>0.48</td>\n",
              "      <td>0.5</td>\n",
              "      <td>0.52</td>\n",
              "      <td>0.45</td>\n",
              "      <td>0.36</td>\n",
              "      <td>cp</td>\n",
              "    </tr>\n",
              "    <tr>\n",
              "      <th>4</th>\n",
              "      <td>ADI_ECOLI</td>\n",
              "      <td>0.23</td>\n",
              "      <td>0.32</td>\n",
              "      <td>0.48</td>\n",
              "      <td>0.5</td>\n",
              "      <td>0.55</td>\n",
              "      <td>0.25</td>\n",
              "      <td>0.35</td>\n",
              "      <td>cp</td>\n",
              "    </tr>\n",
              "  </tbody>\n",
              "</table>\n",
              "</div>\n",
              "    <div class=\"colab-df-buttons\">\n",
              "\n",
              "  <div class=\"colab-df-container\">\n",
              "    <button class=\"colab-df-convert\" onclick=\"convertToInteractive('df-e91b6c8f-67f5-4ee4-ae4a-93e8cf2d2a27')\"\n",
              "            title=\"Convert this dataframe to an interactive table.\"\n",
              "            style=\"display:none;\">\n",
              "\n",
              "  <svg xmlns=\"http://www.w3.org/2000/svg\" height=\"24px\" viewBox=\"0 -960 960 960\">\n",
              "    <path d=\"M120-120v-720h720v720H120Zm60-500h600v-160H180v160Zm220 220h160v-160H400v160Zm0 220h160v-160H400v160ZM180-400h160v-160H180v160Zm440 0h160v-160H620v160ZM180-180h160v-160H180v160Zm440 0h160v-160H620v160Z\"/>\n",
              "  </svg>\n",
              "    </button>\n",
              "\n",
              "  <style>\n",
              "    .colab-df-container {\n",
              "      display:flex;\n",
              "      gap: 12px;\n",
              "    }\n",
              "\n",
              "    .colab-df-convert {\n",
              "      background-color: #E8F0FE;\n",
              "      border: none;\n",
              "      border-radius: 50%;\n",
              "      cursor: pointer;\n",
              "      display: none;\n",
              "      fill: #1967D2;\n",
              "      height: 32px;\n",
              "      padding: 0 0 0 0;\n",
              "      width: 32px;\n",
              "    }\n",
              "\n",
              "    .colab-df-convert:hover {\n",
              "      background-color: #E2EBFA;\n",
              "      box-shadow: 0px 1px 2px rgba(60, 64, 67, 0.3), 0px 1px 3px 1px rgba(60, 64, 67, 0.15);\n",
              "      fill: #174EA6;\n",
              "    }\n",
              "\n",
              "    .colab-df-buttons div {\n",
              "      margin-bottom: 4px;\n",
              "    }\n",
              "\n",
              "    [theme=dark] .colab-df-convert {\n",
              "      background-color: #3B4455;\n",
              "      fill: #D2E3FC;\n",
              "    }\n",
              "\n",
              "    [theme=dark] .colab-df-convert:hover {\n",
              "      background-color: #434B5C;\n",
              "      box-shadow: 0px 1px 3px 1px rgba(0, 0, 0, 0.15);\n",
              "      filter: drop-shadow(0px 1px 2px rgba(0, 0, 0, 0.3));\n",
              "      fill: #FFFFFF;\n",
              "    }\n",
              "  </style>\n",
              "\n",
              "    <script>\n",
              "      const buttonEl =\n",
              "        document.querySelector('#df-e91b6c8f-67f5-4ee4-ae4a-93e8cf2d2a27 button.colab-df-convert');\n",
              "      buttonEl.style.display =\n",
              "        google.colab.kernel.accessAllowed ? 'block' : 'none';\n",
              "\n",
              "      async function convertToInteractive(key) {\n",
              "        const element = document.querySelector('#df-e91b6c8f-67f5-4ee4-ae4a-93e8cf2d2a27');\n",
              "        const dataTable =\n",
              "          await google.colab.kernel.invokeFunction('convertToInteractive',\n",
              "                                                    [key], {});\n",
              "        if (!dataTable) return;\n",
              "\n",
              "        const docLinkHtml = 'Like what you see? Visit the ' +\n",
              "          '<a target=\"_blank\" href=https://colab.research.google.com/notebooks/data_table.ipynb>data table notebook</a>'\n",
              "          + ' to learn more about interactive tables.';\n",
              "        element.innerHTML = '';\n",
              "        dataTable['output_type'] = 'display_data';\n",
              "        await google.colab.output.renderOutput(dataTable, element);\n",
              "        const docLink = document.createElement('div');\n",
              "        docLink.innerHTML = docLinkHtml;\n",
              "        element.appendChild(docLink);\n",
              "      }\n",
              "    </script>\n",
              "  </div>\n",
              "\n",
              "\n",
              "<div id=\"df-4e3a8f75-04c3-4614-9ba7-2b4637bed529\">\n",
              "  <button class=\"colab-df-quickchart\" onclick=\"quickchart('df-4e3a8f75-04c3-4614-9ba7-2b4637bed529')\"\n",
              "            title=\"Suggest charts\"\n",
              "            style=\"display:none;\">\n",
              "\n",
              "<svg xmlns=\"http://www.w3.org/2000/svg\" height=\"24px\"viewBox=\"0 0 24 24\"\n",
              "     width=\"24px\">\n",
              "    <g>\n",
              "        <path d=\"M19 3H5c-1.1 0-2 .9-2 2v14c0 1.1.9 2 2 2h14c1.1 0 2-.9 2-2V5c0-1.1-.9-2-2-2zM9 17H7v-7h2v7zm4 0h-2V7h2v10zm4 0h-2v-4h2v4z\"/>\n",
              "    </g>\n",
              "</svg>\n",
              "  </button>\n",
              "\n",
              "<style>\n",
              "  .colab-df-quickchart {\n",
              "      --bg-color: #E8F0FE;\n",
              "      --fill-color: #1967D2;\n",
              "      --hover-bg-color: #E2EBFA;\n",
              "      --hover-fill-color: #174EA6;\n",
              "      --disabled-fill-color: #AAA;\n",
              "      --disabled-bg-color: #DDD;\n",
              "  }\n",
              "\n",
              "  [theme=dark] .colab-df-quickchart {\n",
              "      --bg-color: #3B4455;\n",
              "      --fill-color: #D2E3FC;\n",
              "      --hover-bg-color: #434B5C;\n",
              "      --hover-fill-color: #FFFFFF;\n",
              "      --disabled-bg-color: #3B4455;\n",
              "      --disabled-fill-color: #666;\n",
              "  }\n",
              "\n",
              "  .colab-df-quickchart {\n",
              "    background-color: var(--bg-color);\n",
              "    border: none;\n",
              "    border-radius: 50%;\n",
              "    cursor: pointer;\n",
              "    display: none;\n",
              "    fill: var(--fill-color);\n",
              "    height: 32px;\n",
              "    padding: 0;\n",
              "    width: 32px;\n",
              "  }\n",
              "\n",
              "  .colab-df-quickchart:hover {\n",
              "    background-color: var(--hover-bg-color);\n",
              "    box-shadow: 0 1px 2px rgba(60, 64, 67, 0.3), 0 1px 3px 1px rgba(60, 64, 67, 0.15);\n",
              "    fill: var(--button-hover-fill-color);\n",
              "  }\n",
              "\n",
              "  .colab-df-quickchart-complete:disabled,\n",
              "  .colab-df-quickchart-complete:disabled:hover {\n",
              "    background-color: var(--disabled-bg-color);\n",
              "    fill: var(--disabled-fill-color);\n",
              "    box-shadow: none;\n",
              "  }\n",
              "\n",
              "  .colab-df-spinner {\n",
              "    border: 2px solid var(--fill-color);\n",
              "    border-color: transparent;\n",
              "    border-bottom-color: var(--fill-color);\n",
              "    animation:\n",
              "      spin 1s steps(1) infinite;\n",
              "  }\n",
              "\n",
              "  @keyframes spin {\n",
              "    0% {\n",
              "      border-color: transparent;\n",
              "      border-bottom-color: var(--fill-color);\n",
              "      border-left-color: var(--fill-color);\n",
              "    }\n",
              "    20% {\n",
              "      border-color: transparent;\n",
              "      border-left-color: var(--fill-color);\n",
              "      border-top-color: var(--fill-color);\n",
              "    }\n",
              "    30% {\n",
              "      border-color: transparent;\n",
              "      border-left-color: var(--fill-color);\n",
              "      border-top-color: var(--fill-color);\n",
              "      border-right-color: var(--fill-color);\n",
              "    }\n",
              "    40% {\n",
              "      border-color: transparent;\n",
              "      border-right-color: var(--fill-color);\n",
              "      border-top-color: var(--fill-color);\n",
              "    }\n",
              "    60% {\n",
              "      border-color: transparent;\n",
              "      border-right-color: var(--fill-color);\n",
              "    }\n",
              "    80% {\n",
              "      border-color: transparent;\n",
              "      border-right-color: var(--fill-color);\n",
              "      border-bottom-color: var(--fill-color);\n",
              "    }\n",
              "    90% {\n",
              "      border-color: transparent;\n",
              "      border-bottom-color: var(--fill-color);\n",
              "    }\n",
              "  }\n",
              "</style>\n",
              "\n",
              "  <script>\n",
              "    async function quickchart(key) {\n",
              "      const quickchartButtonEl =\n",
              "        document.querySelector('#' + key + ' button');\n",
              "      quickchartButtonEl.disabled = true;  // To prevent multiple clicks.\n",
              "      quickchartButtonEl.classList.add('colab-df-spinner');\n",
              "      try {\n",
              "        const charts = await google.colab.kernel.invokeFunction(\n",
              "            'suggestCharts', [key], {});\n",
              "      } catch (error) {\n",
              "        console.error('Error during call to suggestCharts:', error);\n",
              "      }\n",
              "      quickchartButtonEl.classList.remove('colab-df-spinner');\n",
              "      quickchartButtonEl.classList.add('colab-df-quickchart-complete');\n",
              "    }\n",
              "    (() => {\n",
              "      let quickchartButtonEl =\n",
              "        document.querySelector('#df-4e3a8f75-04c3-4614-9ba7-2b4637bed529 button');\n",
              "      quickchartButtonEl.style.display =\n",
              "        google.colab.kernel.accessAllowed ? 'block' : 'none';\n",
              "    })();\n",
              "  </script>\n",
              "</div>\n",
              "    </div>\n",
              "  </div>\n"
            ],
            "application/vnd.google.colaboratory.intrinsic+json": {
              "type": "dataframe",
              "variable_name": "ecoli_data",
              "summary": "{\n  \"name\": \"ecoli_data\",\n  \"rows\": 336,\n  \"fields\": [\n    {\n      \"column\": \"sequence_name\",\n      \"properties\": {\n        \"dtype\": \"string\",\n        \"num_unique_values\": 336,\n        \"samples\": [\n          \"NHAR_ECOLI\",\n          \"SOXS_ECOLI\",\n          \"ECPD_ECOLI\"\n        ],\n        \"semantic_type\": \"\",\n        \"description\": \"\"\n      }\n    },\n    {\n      \"column\": \"mcg\",\n      \"properties\": {\n        \"dtype\": \"number\",\n        \"std\": 0.19463397572377034,\n        \"min\": 0.0,\n        \"max\": 0.89,\n        \"num_unique_values\": 78,\n        \"samples\": [\n          0.54,\n          0.49,\n          0.52\n        ],\n        \"semantic_type\": \"\",\n        \"description\": \"\"\n      }\n    },\n    {\n      \"column\": \"gvh\",\n      \"properties\": {\n        \"dtype\": \"number\",\n        \"std\": 0.14815683501342095,\n        \"min\": 0.16,\n        \"max\": 1.0,\n        \"num_unique_values\": 63,\n        \"samples\": [\n          0.8,\n          0.72,\n          0.29\n        ],\n        \"semantic_type\": \"\",\n        \"description\": \"\"\n      }\n    },\n    {\n      \"column\": \"lip\",\n      \"properties\": {\n        \"dtype\": \"number\",\n        \"std\": 0.0884952787259721,\n        \"min\": 0.48,\n        \"max\": 1.0,\n        \"num_unique_values\": 2,\n        \"samples\": [\n          1.0,\n          0.48\n        ],\n        \"semantic_type\": \"\",\n        \"description\": \"\"\n      }\n    },\n    {\n      \"column\": \"chg\",\n      \"properties\": {\n        \"dtype\": \"number\",\n        \"std\": 0.027277236279499045,\n        \"min\": 0.5,\n        \"max\": 1.0,\n        \"num_unique_values\": 2,\n        \"samples\": [\n          1.0,\n          0.5\n        ],\n        \"semantic_type\": \"\",\n        \"description\": \"\"\n      }\n    },\n    {\n      \"column\": \"aac\",\n      \"properties\": {\n        \"dtype\": \"number\",\n        \"std\": 0.12237573291754913,\n        \"min\": 0.0,\n        \"max\": 0.88,\n        \"num_unique_values\": 59,\n        \"samples\": [\n          0.56,\n          0.36\n        ],\n        \"semantic_type\": \"\",\n        \"description\": \"\"\n      }\n    },\n    {\n      \"column\": \"alm1\",\n      \"properties\": {\n        \"dtype\": \"number\",\n        \"std\": 0.21575130297051623,\n        \"min\": 0.03,\n        \"max\": 1.0,\n        \"num_unique_values\": 82,\n        \"samples\": [\n          0.55,\n          0.24\n        ],\n        \"semantic_type\": \"\",\n        \"description\": \"\"\n      }\n    },\n    {\n      \"column\": \"alm2\",\n      \"properties\": {\n        \"dtype\": \"number\",\n        \"std\": 0.20941051515928005,\n        \"min\": 0.0,\n        \"max\": 0.99,\n        \"num_unique_values\": 77,\n        \"samples\": [\n          0.34,\n          0.51\n        ],\n        \"semantic_type\": \"\",\n        \"description\": \"\"\n      }\n    },\n    {\n      \"column\": \"class\",\n      \"properties\": {\n        \"dtype\": \"category\",\n        \"num_unique_values\": 8,\n        \"samples\": [\n          \"im\",\n          \"om\"\n        ],\n        \"semantic_type\": \"\",\n        \"description\": \"\"\n      }\n    }\n  ]\n}"
            }
          },
          "metadata": {},
          "execution_count": 3
        }
      ]
    },
    {
      "cell_type": "code",
      "source": [
        "plt.figure(figsize=(10,5))\n",
        "sns.boxplot(data=ecoli_data.drop(['class'], axis=1))\n",
        "plt.title('Boxplot of Ecoli Dataset Features')\n",
        "plt.xticks(rotation=90)\n",
        "plt.show()"
      ],
      "metadata": {
        "colab": {
          "base_uri": "https://localhost:8080/",
          "height": 488
        },
        "id": "e1twVWZHb9k9",
        "outputId": "5895b11e-441f-4179-829a-960bc7f8c114"
      },
      "id": "e1twVWZHb9k9",
      "execution_count": 4,
      "outputs": [
        {
          "output_type": "display_data",
          "data": {
            "text/plain": [
              "<Figure size 1000x500 with 1 Axes>"
            ],
            "image/png": "[encoded data removed]"
          },
          "metadata": {}
        }
      ]
    },
    {
      "source": [
        "plt.figure(figsize=(10,5))\n",
        "ecoli_data.groupby('class').size().plot(kind='barh')\n",
        "plt.title('Class Count')\n",
        "plt.show()"
      ],
      "cell_type": "code",
      "execution_count": 5,
      "outputs": [
        {
          "output_type": "display_data",
          "data": {
            "text/plain": [
              "<Figure size 1000x500 with 1 Axes>"
            ],
            "image/png": "[encoded data removed]"
          },
          "metadata": {}
        }
      ],
      "metadata": {
        "colab": {
          "base_uri": "https://localhost:8080/",
          "height": 468
        },
        "id": "XGuPJMh-8u2W",
        "outputId": "899d015b-0f42-4195-a16f-73a59fb87d9d"
      },
      "id": "XGuPJMh-8u2W"
    },
    {
      "cell_type": "markdown",
      "source": [
        "##### Data Preprocessing"
      ],
      "metadata": {
        "id": "Jtjqtx0d5kuR"
      },
      "id": "Jtjqtx0d5kuR"
    },
    {
      "cell_type": "code",
      "source": [
        "# drop kolom sequence_name karena nama tidak mempengaruhi kelas\n",
        "ecoli_data.drop(['sequence_name'], axis=1, inplace=True)"
      ],
      "metadata": {
        "id": "-jsjqnYebIRb"
      },
      "id": "-jsjqnYebIRb",
      "execution_count": 6,
      "outputs": []
    },
    {
      "cell_type": "code",
      "source": [
        "# drop kolom lip dan chg karena terlihat pada boxplot tidak memberikan kontribusi signifikan terhadap prediksi label\n",
        "ecoli_data.drop(['lip', 'chg'], axis=1, inplace=True)"
      ],
      "metadata": {
        "id": "M8iJxab2CnQY"
      },
      "id": "M8iJxab2CnQY",
      "execution_count": 7,
      "outputs": []
    },
    {
      "cell_type": "code",
      "source": [
        "# membagi data fitur dan class\n",
        "X = ecoli_data.drop(['class'], axis=1)\n",
        "y = ecoli_data['class']"
      ],
      "metadata": {
        "id": "cV5wpYT17pUF"
      },
      "id": "cV5wpYT17pUF",
      "execution_count": 8,
      "outputs": []
    },
    {
      "cell_type": "markdown",
      "source": [
        "##### Data Splitting"
      ],
      "metadata": {
        "id": "erl28vMm5d2r"
      },
      "id": "erl28vMm5d2r"
    },
    {
      "cell_type": "code",
      "source": [
        "X_train, X_test, y_train, y_test = train_test_split(X, y, test_size=0.2, random_state=42)"
      ],
      "metadata": {
        "id": "Q3-1_DANcIJX"
      },
      "id": "Q3-1_DANcIJX",
      "execution_count": 9,
      "outputs": []
    },
    {
      "cell_type": "code",
      "source": [
        "scaler = StandardScaler()\n",
        "X_train = scaler.fit_transform(X_train)\n",
        "X_test = scaler.transform(X_test)"
      ],
      "metadata": {
        "id": "vL-BseiechRe"
      },
      "id": "vL-BseiechRe",
      "execution_count": 10,
      "outputs": []
    },
    {
      "cell_type": "markdown",
      "id": "691b437e",
      "metadata": {
        "id": "691b437e"
      },
      "source": [
        "#### Metode yang Digunakan\n",
        "\n",
        "K-Nearest Neighbors (KNN) adalah algoritma yang digunakan untuk tugas klasifikasi dan regresi data berdasarkan beberapa data tetangga yang terdekat. Algoritma ini bekerja dengan mengidentifikasi k-nearest neighbors (k tetangga terdekat) dari sampel data yang ingin diklasifikasikan, kemudian prediksi kelas ditentukan dengan melihat kelas mayoritas dari tetangga-tetangga.\n",
        "\n",
        "**Parameter yang Digunakan**\n",
        "\n",
        "**Jumlah Tetangga (k)**: Jumlah tetangga terdekat yang diambil.\n",
        "\n",
        "Nilai k yang sangat penting untuk akurasi algoritma KNN, karena nilai k yang terlalu kecil akan membuat model yang sangat sensitif terhadap noise, dan nilai k terlalu besar akan membuat model dapat kehilangan detail penting dalam data.\n",
        "\n",
        "Dalam tugas ini, akan dicoba menggunakan beberapa nilai k yaitu, 1, 5, 9, 13, dan 17."
      ]
    },
    {
      "cell_type": "markdown",
      "source": [
        "##### Experiment Settings"
      ],
      "metadata": {
        "id": "38dFTlSwyRhv"
      },
      "id": "38dFTlSwyRhv"
    },
    {
      "cell_type": "code",
      "source": [
        "models = []\n",
        "\n",
        "# parameter yang dicoba\n",
        "K_coba = [1, 5, 9, 13, 17]\n",
        "\n",
        "for k in K_coba:\n",
        "  knn = KNeighborsClassifier(n_neighbors=k)\n",
        "  models.append(knn)\n"
      ],
      "metadata": {
        "id": "Ki1gsReQdcby"
      },
      "id": "Ki1gsReQdcby",
      "execution_count": 11,
      "outputs": []
    },
    {
      "cell_type": "markdown",
      "source": [
        "##### Model Training\n"
      ],
      "metadata": {
        "id": "umN0amT3yh39"
      },
      "id": "umN0amT3yh39"
    },
    {
      "cell_type": "code",
      "source": [
        "for knn in models:\n",
        "  knn.fit(X_train, y_train)"
      ],
      "metadata": {
        "id": "yWWRN0zO_0Fj"
      },
      "id": "yWWRN0zO_0Fj",
      "execution_count": 12,
      "outputs": []
    },
    {
      "cell_type": "markdown",
      "source": [
        "##### Model Testing and Evaluation"
      ],
      "metadata": {
        "id": "0uBl7NlkyrX-"
      },
      "id": "0uBl7NlkyrX-"
    },
    {
      "cell_type": "code",
      "source": [
        "performances = []\n",
        "for i, knn in enumerate(models):\n",
        "  y_pred = knn.predict(X_test)\n",
        "  performances.append({\n",
        "      \"k\": K_coba[i],\n",
        "      \"Akurasi\": accuracy_score(y_test, y_pred)\n",
        "  })"
      ],
      "metadata": {
        "id": "EgQPqs9XeHQo"
      },
      "id": "EgQPqs9XeHQo",
      "execution_count": 13,
      "outputs": []
    },
    {
      "cell_type": "code",
      "source": [
        "perf = pd.DataFrame(performances)\n",
        "perf"
      ],
      "metadata": {
        "colab": {
          "base_uri": "https://localhost:8080/",
          "height": 206
        },
        "id": "_-8oVYmKll3B",
        "outputId": "a10b682d-b69d-4981-c190-da39c5f8948a"
      },
      "id": "_-8oVYmKll3B",
      "execution_count": 14,
      "outputs": [
        {
          "output_type": "execute_result",
          "data": {
            "text/plain": [
              "    k   Akurasi\n",
              "0   1  0.794118\n",
              "1   5  0.867647\n",
              "2   9  0.911765\n",
              "3  13  0.897059\n",
              "4  17  0.867647"
            ],
            "text/html": [
              "\n",
              "  <div id=\"df-e879cb44-b301-483d-a898-c92ab74521b5\" class=\"colab-df-container\">\n",
              "    <div>\n",
              "<style scoped>\n",
              "    .dataframe tbody tr th:only-of-type {\n",
              "        vertical-align: middle;\n",
              "    }\n",
              "\n",
              "    .dataframe tbody tr th {\n",
              "        vertical-align: top;\n",
              "    }\n",
              "\n",
              "    .dataframe thead th {\n",
              "        text-align: right;\n",
              "    }\n",
              "</style>\n",
              "<table border=\"1\" class=\"dataframe\">\n",
              "  <thead>\n",
              "    <tr style=\"text-align: right;\">\n",
              "      <th></th>\n",
              "      <th>k</th>\n",
              "      <th>Akurasi</th>\n",
              "    </tr>\n",
              "  </thead>\n",
              "  <tbody>\n",
              "    <tr>\n",
              "      <th>0</th>\n",
              "      <td>1</td>\n",
              "      <td>0.794118</td>\n",
              "    </tr>\n",
              "    <tr>\n",
              "      <th>1</th>\n",
              "      <td>5</td>\n",
              "      <td>0.867647</td>\n",
              "    </tr>\n",
              "    <tr>\n",
              "      <th>2</th>\n",
              "      <td>9</td>\n",
              "      <td>0.911765</td>\n",
              "    </tr>\n",
              "    <tr>\n",
              "      <th>3</th>\n",
              "      <td>13</td>\n",
              "      <td>0.897059</td>\n",
              "    </tr>\n",
              "    <tr>\n",
              "      <th>4</th>\n",
              "      <td>17</td>\n",
              "      <td>0.867647</td>\n",
              "    </tr>\n",
              "  </tbody>\n",
              "</table>\n",
              "</div>\n",
              "    <div class=\"colab-df-buttons\">\n",
              "\n",
              "  <div class=\"colab-df-container\">\n",
              "    <button class=\"colab-df-convert\" onclick=\"convertToInteractive('df-e879cb44-b301-483d-a898-c92ab74521b5')\"\n",
              "            title=\"Convert this dataframe to an interactive table.\"\n",
              "            style=\"display:none;\">\n",
              "\n",
              "  <svg xmlns=\"http://www.w3.org/2000/svg\" height=\"24px\" viewBox=\"0 -960 960 960\">\n",
              "    <path d=\"M120-120v-720h720v720H120Zm60-500h600v-160H180v160Zm220 220h160v-160H400v160Zm0 220h160v-160H400v160ZM180-400h160v-160H180v160Zm440 0h160v-160H620v160ZM180-180h160v-160H180v160Zm440 0h160v-160H620v160Z\"/>\n",
              "  </svg>\n",
              "    </button>\n",
              "\n",
              "  <style>\n",
              "    .colab-df-container {\n",
              "      display:flex;\n",
              "      gap: 12px;\n",
              "    }\n",
              "\n",
              "    .colab-df-convert {\n",
              "      background-color: #E8F0FE;\n",
              "      border: none;\n",
              "      border-radius: 50%;\n",
              "      cursor: pointer;\n",
              "      display: none;\n",
              "      fill: #1967D2;\n",
              "      height: 32px;\n",
              "      padding: 0 0 0 0;\n",
              "      width: 32px;\n",
              "    }\n",
              "\n",
              "    .colab-df-convert:hover {\n",
              "      background-color: #E2EBFA;\n",
              "      box-shadow: 0px 1px 2px rgba(60, 64, 67, 0.3), 0px 1px 3px 1px rgba(60, 64, 67, 0.15);\n",
              "      fill: #174EA6;\n",
              "    }\n",
              "\n",
              "    .colab-df-buttons div {\n",
              "      margin-bottom: 4px;\n",
              "    }\n",
              "\n",
              "    [theme=dark] .colab-df-convert {\n",
              "      background-color: #3B4455;\n",
              "      fill: #D2E3FC;\n",
              "    }\n",
              "\n",
              "    [theme=dark] .colab-df-convert:hover {\n",
              "      background-color: #434B5C;\n",
              "      box-shadow: 0px 1px 3px 1px rgba(0, 0, 0, 0.15);\n",
              "      filter: drop-shadow(0px 1px 2px rgba(0, 0, 0, 0.3));\n",
              "      fill: #FFFFFF;\n",
              "    }\n",
              "  </style>\n",
              "\n",
              "    <script>\n",
              "      const buttonEl =\n",
              "        document.querySelector('#df-e879cb44-b301-483d-a898-c92ab74521b5 button.colab-df-convert');\n",
              "      buttonEl.style.display =\n",
              "        google.colab.kernel.accessAllowed ? 'block' : 'none';\n",
              "\n",
              "      async function convertToInteractive(key) {\n",
              "        const element = document.querySelector('#df-e879cb44-b301-483d-a898-c92ab74521b5');\n",
              "        const dataTable =\n",
              "          await google.colab.kernel.invokeFunction('convertToInteractive',\n",
              "                                                    [key], {});\n",
              "        if (!dataTable) return;\n",
              "\n",
              "        const docLinkHtml = 'Like what you see? Visit the ' +\n",
              "          '<a target=\"_blank\" href=https://colab.research.google.com/notebooks/data_table.ipynb>data table notebook</a>'\n",
              "          + ' to learn more about interactive tables.';\n",
              "        element.innerHTML = '';\n",
              "        dataTable['output_type'] = 'display_data';\n",
              "        await google.colab.output.renderOutput(dataTable, element);\n",
              "        const docLink = document.createElement('div');\n",
              "        docLink.innerHTML = docLinkHtml;\n",
              "        element.appendChild(docLink);\n",
              "      }\n",
              "    </script>\n",
              "  </div>\n",
              "\n",
              "\n",
              "<div id=\"df-c314b98b-9388-42a2-a817-c6aef6990159\">\n",
              "  <button class=\"colab-df-quickchart\" onclick=\"quickchart('df-c314b98b-9388-42a2-a817-c6aef6990159')\"\n",
              "            title=\"Suggest charts\"\n",
              "            style=\"display:none;\">\n",
              "\n",
              "<svg xmlns=\"http://www.w3.org/2000/svg\" height=\"24px\"viewBox=\"0 0 24 24\"\n",
              "     width=\"24px\">\n",
              "    <g>\n",
              "        <path d=\"M19 3H5c-1.1 0-2 .9-2 2v14c0 1.1.9 2 2 2h14c1.1 0 2-.9 2-2V5c0-1.1-.9-2-2-2zM9 17H7v-7h2v7zm4 0h-2V7h2v10zm4 0h-2v-4h2v4z\"/>\n",
              "    </g>\n",
              "</svg>\n",
              "  </button>\n",
              "\n",
              "<style>\n",
              "  .colab-df-quickchart {\n",
              "      --bg-color: #E8F0FE;\n",
              "      --fill-color: #1967D2;\n",
              "      --hover-bg-color: #E2EBFA;\n",
              "      --hover-fill-color: #174EA6;\n",
              "      --disabled-fill-color: #AAA;\n",
              "      --disabled-bg-color: #DDD;\n",
              "  }\n",
              "\n",
              "  [theme=dark] .colab-df-quickchart {\n",
              "      --bg-color: #3B4455;\n",
              "      --fill-color: #D2E3FC;\n",
              "      --hover-bg-color: #434B5C;\n",
              "      --hover-fill-color: #FFFFFF;\n",
              "      --disabled-bg-color: #3B4455;\n",
              "      --disabled-fill-color: #666;\n",
              "  }\n",
              "\n",
              "  .colab-df-quickchart {\n",
              "    background-color: var(--bg-color);\n",
              "    border: none;\n",
              "    border-radius: 50%;\n",
              "    cursor: pointer;\n",
              "    display: none;\n",
              "    fill: var(--fill-color);\n",
              "    height: 32px;\n",
              "    padding: 0;\n",
              "    width: 32px;\n",
              "  }\n",
              "\n",
              "  .colab-df-quickchart:hover {\n",
              "    background-color: var(--hover-bg-color);\n",
              "    box-shadow: 0 1px 2px rgba(60, 64, 67, 0.3), 0 1px 3px 1px rgba(60, 64, 67, 0.15);\n",
              "    fill: var(--button-hover-fill-color);\n",
              "  }\n",
              "\n",
              "  .colab-df-quickchart-complete:disabled,\n",
              "  .colab-df-quickchart-complete:disabled:hover {\n",
              "    background-color: var(--disabled-bg-color);\n",
              "    fill: var(--disabled-fill-color);\n",
              "    box-shadow: none;\n",
              "  }\n",
              "\n",
              "  .colab-df-spinner {\n",
              "    border: 2px solid var(--fill-color);\n",
              "    border-color: transparent;\n",
              "    border-bottom-color: var(--fill-color);\n",
              "    animation:\n",
              "      spin 1s steps(1) infinite;\n",
              "  }\n",
              "\n",
              "  @keyframes spin {\n",
              "    0% {\n",
              "      border-color: transparent;\n",
              "      border-bottom-color: var(--fill-color);\n",
              "      border-left-color: var(--fill-color);\n",
              "    }\n",
              "    20% {\n",
              "      border-color: transparent;\n",
              "      border-left-color: var(--fill-color);\n",
              "      border-top-color: var(--fill-color);\n",
              "    }\n",
              "    30% {\n",
              "      border-color: transparent;\n",
              "      border-left-color: var(--fill-color);\n",
              "      border-top-color: var(--fill-color);\n",
              "      border-right-color: var(--fill-color);\n",
              "    }\n",
              "    40% {\n",
              "      border-color: transparent;\n",
              "      border-right-color: var(--fill-color);\n",
              "      border-top-color: var(--fill-color);\n",
              "    }\n",
              "    60% {\n",
              "      border-color: transparent;\n",
              "      border-right-color: var(--fill-color);\n",
              "    }\n",
              "    80% {\n",
              "      border-color: transparent;\n",
              "      border-right-color: var(--fill-color);\n",
              "      border-bottom-color: var(--fill-color);\n",
              "    }\n",
              "    90% {\n",
              "      border-color: transparent;\n",
              "      border-bottom-color: var(--fill-color);\n",
              "    }\n",
              "  }\n",
              "</style>\n",
              "\n",
              "  <script>\n",
              "    async function quickchart(key) {\n",
              "      const quickchartButtonEl =\n",
              "        document.querySelector('#' + key + ' button');\n",
              "      quickchartButtonEl.disabled = true;  // To prevent multiple clicks.\n",
              "      quickchartButtonEl.classList.add('colab-df-spinner');\n",
              "      try {\n",
              "        const charts = await google.colab.kernel.invokeFunction(\n",
              "            'suggestCharts', [key], {});\n",
              "      } catch (error) {\n",
              "        console.error('Error during call to suggestCharts:', error);\n",
              "      }\n",
              "      quickchartButtonEl.classList.remove('colab-df-spinner');\n",
              "      quickchartButtonEl.classList.add('colab-df-quickchart-complete');\n",
              "    }\n",
              "    (() => {\n",
              "      let quickchartButtonEl =\n",
              "        document.querySelector('#df-c314b98b-9388-42a2-a817-c6aef6990159 button');\n",
              "      quickchartButtonEl.style.display =\n",
              "        google.colab.kernel.accessAllowed ? 'block' : 'none';\n",
              "    })();\n",
              "  </script>\n",
              "</div>\n",
              "    </div>\n",
              "  </div>\n"
            ],
            "application/vnd.google.colaboratory.intrinsic+json": {
              "type": "dataframe",
              "variable_name": "perf",
              "summary": "{\n  \"name\": \"perf\",\n  \"rows\": 5,\n  \"fields\": [\n    {\n      \"column\": \"k\",\n      \"properties\": {\n        \"dtype\": \"number\",\n        \"std\": 6,\n        \"min\": 1,\n        \"max\": 17,\n        \"num_unique_values\": 5,\n        \"samples\": [\n          5,\n          17,\n          9\n        ],\n        \"semantic_type\": \"\",\n        \"description\": \"\"\n      }\n    },\n    {\n      \"column\": \"Akurasi\",\n      \"properties\": {\n        \"dtype\": \"number\",\n        \"std\": 0.04532657355124249,\n        \"min\": 0.7941176470588235,\n        \"max\": 0.9117647058823529,\n        \"num_unique_values\": 4,\n        \"samples\": [\n          0.8676470588235294,\n          0.8970588235294118,\n          0.7941176470588235\n        ],\n        \"semantic_type\": \"\",\n        \"description\": \"\"\n      }\n    }\n  ]\n}"
            }
          },
          "metadata": {},
          "execution_count": 14
        }
      ]
    },
    {
      "cell_type": "markdown",
      "id": "c5526cf7",
      "metadata": {
        "id": "c5526cf7"
      },
      "source": [
        "#### Hasil dan Analisis\n",
        "\n"
      ]
    },
    {
      "source": [
        "perf.plot(kind='scatter', x='k', y='Akurasi')\n",
        "plt.title('k vs Akurasi')\n",
        "plt.show()"
      ],
      "cell_type": "code",
      "execution_count": 15,
      "outputs": [
        {
          "output_type": "display_data",
          "data": {
            "text/plain": [
              "<Figure size 640x480 with 1 Axes>"
            ],
            "image/png": "[encoded data removed]"
          },
          "metadata": {}
        }
      ],
      "metadata": {
        "colab": {
          "base_uri": "https://localhost:8080/",
          "height": 472
        },
        "id": "zZw-JVCaBy3F",
        "outputId": "53d5cef2-797e-4dfd-9a55-6602a4457815"
      },
      "id": "zZw-JVCaBy3F"
    },
    {
      "cell_type": "markdown",
      "source": [
        "Dari hasil evaluasi dan analisis menggunakan metrik akurasi, dapat disimpulkan bahwa KNN dengan nilai k = 9 memiliki akurasi tertinggi dengan nilai 0,91. Saat nilai k dicoba menggunakan nilai lebih kecil atau lebih besar, akurasi model menjadi menurun. Hal ini menunjukkan bahwa menggunakan sembilan tetangga terdekat memberikan hasil yang paling akurat dalam kasus ini. Namun, perlu diingat bahwa hasil ini hanya berdasarkan pada analisis terbatas pada dataset yang digunakan dalam tugas ini.\n",
        "\n",
        "Dalam pemilihan nilai k pada algoritma kNN, perlu mempertimbangkan karakteristik dataset dan kasus yang sedang dianalisis. Nilai k yang terlalu kecil dapat menyebabkan overfitting, model menjadi terlalu kaku dan sulit beradaptasi dengan data baru. Sementara itu, nilai k yang terlalu besar dapat menyebabkan underfitting, model menjadi terlalu sederhana dan kehilangan kemampuan untuk menangkap pola yang kompleks dalam data.\n",
        "\n"
      ],
      "metadata": {
        "id": "xJtzu7raBebT"
      },
      "id": "xJtzu7raBebT"
    },
    {
      "cell_type": "markdown",
      "id": "8a255fe5",
      "metadata": {
        "id": "8a255fe5"
      },
      "source": [
        "#### Kesimpulan\n",
        "Dataset E. coli adalah kumpulan data pengukuran sifat-sifat kimiawi dari berbagai strain bakteri E. coli. Tujuan dari tugas ini adalah untuk mengklasifikasikan strain E. coli berdasarkan beberapa fitur kimiawi yang diukur. Dataset ini terdiri dari 336 data protein E.coli dan dideskripsikan dengan tujuh variabel input yang berupa pengukuran urutan asam amino dari protein. Pada dataset ini kita membagi menjadi dua bagian yaitu data training dan testing. Dengan persentase data, 80% untuk training dan 20% untuk testing. Pada bagian pengolahan data kita melakukan beberapa langkah seperti Load Dataset ecoli, Data Prepocessing, dan Data Splitting. Pada dataset ini kita menggunakan metode KNN. K-Nearest Neighbors (KNN) adalah algoritma yang digunakan untuk tugas klasifikasi dan regresi data berdasarkan beberapa data tetangga yang terdekat. Untuk menggunakan metode KNN kita melakukan beberapa langkah dalam pengerjaannya yaitu Experiment Settings, Model Training, Model Testing and Evaluation. Dengan menggunakan metode KNN dapat memberikan hasil yang cukup baik untuk klasifikasi E. coli, dengan akurasi tertinggi 0.911765 pada k=9."
      ]
    },
    {
      "cell_type": "markdown",
      "id": "5241e91d",
      "metadata": {
        "id": "5241e91d"
      },
      "source": []
    }
  ],
  "metadata": {
    "kernelspec": {
      "display_name": "Python 3 (ipykernel)",
      "language": "python",
      "name": "python3"
    },
    "language_info": {
      "codemirror_mode": {
        "name": "ipython",
        "version": 3
      },
      "file_extension": ".py",
      "mimetype": "text/x-python",
      "name": "python",
      "nbconvert_exporter": "python",
      "pygments_lexer": "ipython3",
      "version": "3.10.9"
    },
    "colab": {
      "provenance": []
    }
  },
  "nbformat": 4,
  "nbformat_minor": 5
}